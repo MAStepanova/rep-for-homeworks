{
 "cells": [
  {
   "cell_type": "markdown",
   "metadata": {
    "id": "LrbDTd7WsXcg"
   },
   "source": [
    "# Дипломная работа. Задание"
   ]
  },
  {
   "cell_type": "markdown",
   "metadata": {
    "id": "Gs96NVRvRdyG"
   },
   "source": [
    "Дан файл HR.csv с данными по опросу уровня удовлетворенности сотрудниками работой.\n",
    "\n",
    "Файл доступен тут -\n",
    "https://drive.google.com/file/d/1INgo03nal-vwFJe7Lec5vOUtOwfJdUr1/view?usp=sharing\n",
    "\n",
    "Признаки:\n",
    "1. satisfaction_level - Уровень удовлетворенности работой\n",
    "2. Last_evaluation - Время с момента последней оценки в годах\n",
    "3. number_projects - Количество проектов, выполненных за время работы\n",
    "4. average_monthly_hours - Среднее количество часов на рабочем месте в месяц\n",
    "5. time_spend_company - Стаж работы в компании в годах\n",
    "6. work_accident - Происходили ли несчастные случаи на рабочем месте с сотрудником\n",
    "7. left - уволился ли сотрудник\n",
    "8. promotion_last_5years - повышался ли сотрудник за последние пять лет\n",
    "9. department - отдел в котором работает сотрудник\n",
    "10. salary - относительный уровень зарплаты\n",
    "\n",
    "**Требуется выполнить следующее задание:**\n"
   ]
  },
  {
   "cell_type": "markdown",
   "metadata": {
    "id": "6z1rGQC8nyMT"
   },
   "source": [
    "### 1. Загрузите файл HR.csv в pandas dataframe \n",
    "**5 баллов**"
   ]
  },
  {
   "cell_type": "code",
   "execution_count": null,
   "metadata": {
    "id": "oM3dk9PLtLkb"
   },
   "outputs": [],
   "source": [
    "import pandas as pd\n",
    "import numpy as np\n",
    "\n",
    "from sklearn.discriminant_analysis import LinearDiscriminantAnalysis\n",
    "from sklearn.model_selection import train_test_split\n",
    "from sklearn.metrics import accuracy_score\n",
    "\n",
    "import matplotlib.pyplot as plt\n",
    "import seaborn as sns\n",
    "\n",
    "from pylab import rcParams\n",
    "rcParams['figure.figsize'] = 11,7\n"
   ]
  },
  {
   "cell_type": "code",
   "execution_count": null,
   "metadata": {
    "colab": {
     "base_uri": "https://localhost:8080/"
    },
    "id": "S3LhqJweAjeL",
    "outputId": "8ed5d2c0-fc07-42d8-9de8-024cfa5845dd"
   },
   "outputs": [],
   "source": [
    "hr = pd.read_csv('HR.csv')\n",
    "hr.info()           # проверили на наличие пустых значений и типов данных"
   ]
  },
  {
   "cell_type": "markdown",
   "metadata": {
    "id": "QxLh4pCHn3np"
   },
   "source": [
    "### 2. Рассчитайте основные статистики для переменных\n",
    "(среднее,медиана,мода,мин/макс,сред.отклонение). **10 баллов**"
   ]
  },
  {
   "cell_type": "code",
   "execution_count": null,
   "metadata": {
    "colab": {
     "base_uri": "https://localhost:8080/",
     "height": 364
    },
    "id": "ZdUy-UjzSTwv",
    "outputId": "ca2ad022-9b0b-4ad2-ab47-1a2463083162"
   },
   "outputs": [],
   "source": [
    "# на поверхностном уровне проверим мин, макс, средние значения и квантили, а также стандартные отклонения - очевидных выбросов не видно\n",
    "hr.describe()"
   ]
  },
  {
   "cell_type": "code",
   "execution_count": null,
   "metadata": {
    "colab": {
     "base_uri": "https://localhost:8080/"
    },
    "id": "omam9Gb-V8oE",
    "outputId": "7bbc20de-3709-4ee9-e04f-69a7cc015ad1"
   },
   "outputs": [],
   "source": [
    "# выводим средние и модальные показатели для столбцов датафрейма\n",
    "print(f'Средний уровень удовлетворенности работой {hr.satisfaction_level.median()}')\n",
    "print(f'Время последней оценки в среднем, в годах {hr.last_evaluation.median()}')\n",
    "print(f'Среднее количество проектов у каждого сотрудника {hr.number_project.median()}')\n",
    "print(f'Чаще всего у каждого сотрудника {hr.number_project.mode()[0]} проекта(-ов)')\n",
    "print(f'В среднем каждый сотрудник работает по {hr.average_montly_hours.median()} часов в месяц')\n",
    "print(f'Обычно сотрудник работает в компании в среднем {hr.time_spend_company.mode()[0]} года')\n",
    "print()\n",
    "print(f'Модальное значение несчастных случаев на рабочем месте - {hr.Work_accident.mode()[0]}')\n",
    "work_accident_count = hr[hr['Work_accident'] == 1]['Work_accident'].count()\n",
    "print(f'Процент несчастных случаев на рабочем месте - {(work_accident_count*100)/hr.Work_accident.count():.2f} %')\n",
    "print()\n",
    "print(f'Модальное значение уволенных - {hr.left.mode()[0]}')\n",
    "left_count = hr[hr['left'] == 1]['left'].count()\n",
    "print(f'Процент уволенных сотрудников {(left_count*100)/hr.left.count():.2f} %')\n",
    "print()\n",
    "print(f'Модальное значение повышений за последние 5 лет - {hr.promotion_last_5years.mode()[0]}')\n",
    "promotion_last_5years_count = hr[hr['promotion_last_5years'] == 1]['promotion_last_5years'].count()\n",
    "print(f'Процент повышенных за последние 5 лет сотрудников {(promotion_last_5years_count*100)/hr.promotion_last_5years.count():.2f} %')\n",
    "print()\n",
    "print(f'Чаще всего сотрудники работают в отделе {hr.department.mode()[0]}')\n",
    "print(f'Чаще всего уровень зарплаты у сотрудника {hr.salary.mode()[0]}')"
   ]
  },
  {
   "cell_type": "code",
   "execution_count": null,
   "metadata": {
    "colab": {
     "base_uri": "https://localhost:8080/",
     "height": 463
    },
    "id": "1VaFpodahA21",
    "outputId": "886a1b56-20ee-4477-fdf6-9d3ba47d2fc0"
   },
   "outputs": [],
   "source": [
    "# смотрим боксплоты для числовых столбцов датафрейма, чтобы оценить, есть ли в данных выбросы\n",
    "sns.boxplot(data=hr[['satisfaction_level', 'last_evaluation']]).set_title('Квантили удовлетворенности работой и времени с момента последней оценки')"
   ]
  },
  {
   "cell_type": "code",
   "execution_count": null,
   "metadata": {
    "colab": {
     "base_uri": "https://localhost:8080/",
     "height": 463
    },
    "id": "B1isBRh3m9vo",
    "outputId": "30e02f7a-edc6-40f3-c457-f0567c01953a"
   },
   "outputs": [],
   "source": [
    "sns.boxplot(data=hr[['average_montly_hours']]).set_title('Квантили количества рабочих часов в месяц')"
   ]
  },
  {
   "cell_type": "code",
   "execution_count": null,
   "metadata": {
    "colab": {
     "base_uri": "https://localhost:8080/",
     "height": 463
    },
    "id": "WqNPSpYzmCAU",
    "outputId": "4c4003f9-9a81-4c12-8d34-f4a40b1f2b4b"
   },
   "outputs": [],
   "source": [
    "sns.boxplot(data=hr[['number_project', 'time_spend_company']]).set_title('Квантили количества проектов и времени работы в компании')\n",
    "\n",
    "# видим, что выбросов в данных нет"
   ]
  },
  {
   "cell_type": "code",
   "execution_count": null,
   "metadata": {
    "colab": {
     "base_uri": "https://localhost:8080/"
    },
    "id": "-V840t6OmmWy",
    "outputId": "9f11ecb0-0596-415a-ba65-0ce75f2a4db3"
   },
   "outputs": [],
   "source": [
    "# проверяем категориальные данные, видим, что выбросов и ошибочных данных нет\n",
    "print(hr.Work_accident.value_counts())\n",
    "print(hr.left.value_counts())\n",
    "print(hr.promotion_last_5years.value_counts())\n",
    "print(hr.department.value_counts())\n",
    "print(hr.salary.value_counts())"
   ]
  },
  {
   "cell_type": "markdown",
   "metadata": {
    "id": "fFcg1gSkoKaA"
   },
   "source": [
    "### 3. Рассчитайте и визуализируйте корреляционную матрицу для количественных переменных.  \n",
    "Определите две самые скоррелированные и две наименее\n",
    "скоррелированные переменные. **10 баллов**"
   ]
  },
  {
   "cell_type": "code",
   "execution_count": null,
   "metadata": {
    "colab": {
     "base_uri": "https://localhost:8080/",
     "height": 566
    },
    "id": "KvQoDaPZW0nj",
    "outputId": "93c1c7fb-e30f-49c0-a623-db6254e2b87e"
   },
   "outputs": [],
   "source": [
    "# для наглядности превращаем квадратную корреляционную матрицу в треугольную\n",
    "matrix = np.triu(hr.corr())\n",
    "sns.heatmap(hr.corr(), cmap='YlGnBu', annot=True, vmin=-1, vmax=1, center=0, mask=matrix)\\\n",
    ".set_title('Корреляционная матрица количественных показателей сотрудников')\n",
    "\n",
    "# Видим, что два наиболее скоррелированных столбца - average_montly_hours и number_project,\n",
    "# что логично. Чем больше времени сотрудник проводит на рабочем месте, тем больше проектов успевает сделать.\n",
    "\n",
    "# Вторая по скоррелированности пара, но с обратной зависимостью - satisfaction_level и left.\n",
    "# Чем менее сотрудник доволен своей работой, тем вероятнее он окажется уволившимся, и наоборот.\n",
    "\n",
    "# Наименьшую корреляцию (0,0021) видим между параметрами Work_accident и time_spend_company.\n",
    "# Стаж работы в компании никак не взаимосвязан с количеством произошедших с сотрудником несчастных случаев.\n",
    "# Вероятно, условия работы в компании безопасны, \n",
    "# и несчастные случаи - это действительно случайность, а не закономерность."
   ]
  },
  {
   "cell_type": "markdown",
   "metadata": {
    "id": "kL-sclR-qa3p"
   },
   "source": [
    "### 4. Рассчитайте сколько сотрудников работает в каждом департаменте.\n",
    "**5 баллов**"
   ]
  },
  {
   "cell_type": "code",
   "execution_count": null,
   "metadata": {
    "colab": {
     "base_uri": "https://localhost:8080/"
    },
    "id": "rawbkKKThDTp",
    "outputId": "c9ffc307-11f8-4fda-8ce1-f2de42141767"
   },
   "outputs": [],
   "source": [
    "hr.department.value_counts()\n",
    "# видим информацию по количеству сотрудников из датафрейма по каждому из департаментов"
   ]
  },
  {
   "cell_type": "code",
   "execution_count": null,
   "metadata": {
    "colab": {
     "base_uri": "https://localhost:8080/"
    },
    "id": "ZunVLeD4qseT",
    "outputId": "3e2f62b1-6d6a-4569-bba1-73e061493c5f"
   },
   "outputs": [],
   "source": [
    "# и на всякий случай подсчитаем только тех, кто работает в компании в данный момент\n",
    "sales_count = hr.loc[(hr.department == 'sales')&(hr.left == 0)]['department'].count()\n",
    "print(f'В отделе продаж работает {sales_count} сотрудников')\n",
    "technical_count = hr.loc[(hr.department == 'technical')&(hr.left == 0)]['department'].count()\n",
    "print(f'В техническом отделе работает {technical_count} сотрудников')\n",
    "support_count = hr.loc[(hr.department == 'support')&(hr.left == 0)]['department'].count()\n",
    "print(f'В отделе техподдержки работает {support_count} сотрудников')\n",
    "IT_count = hr.loc[(hr.department == 'IT')&(hr.left == 0)]['department'].count()\n",
    "print(f'В айти-отделе работает {IT_count} сотрудников')\n",
    "product_mng_count = hr.loc[(hr.department == 'product_mng')&(hr.left == 0)]['department'].count()\n",
    "print(f'В отделе продакт-менеджмента работает {product_mng_count} сотрудников')\n",
    "marketing_count = hr.loc[(hr.department == 'marketing')&(hr.left == 0)]['department'].count()\n",
    "print(f'В отделе маркетинга работает {marketing_count} сотрудников')\n",
    "RandD_count = hr.loc[(hr.department == 'RandD')&(hr.left == 0)]['department'].count()\n",
    "print(f'В R&D отделе работает {RandD_count} сотрудников')\n",
    "accounting_count = hr.loc[(hr.department == 'accounting')&(hr.left == 0)]['department'].count()\n",
    "print(f'В бухгалтерии работает {accounting_count} сотрудников')\n",
    "hr_count = hr.loc[(hr.department == 'hr')&(hr.left == 0)]['department'].count()\n",
    "print(f'В отделе кадров работает {hr_count} сотрудников')\n",
    "management_count = hr.loc[(hr.department == 'management')&(hr.left == 0)]['department'].count()\n",
    "print(f'В отделе менеджмента работает {management_count} сотрудников')"
   ]
  },
  {
   "cell_type": "markdown",
   "metadata": {
    "id": "oohxH3yMv21A"
   },
   "source": [
    "### 5. Показать распределение сотрудников по зарплатам. \n",
    "**5 баллов**"
   ]
  },
  {
   "cell_type": "code",
   "execution_count": null,
   "metadata": {
    "colab": {
     "base_uri": "https://localhost:8080/",
     "height": 476
    },
    "id": "w62BiESEwAuG",
    "outputId": "226aa1bb-36b1-425f-a120-4e356871be3e"
   },
   "outputs": [],
   "source": [
    "salary_hist = sns.histplot(x=hr.salary)\n",
    "salary_hist.set_title('Распределение сотрудников по зарплатам')\n",
    "salary_hist.set_xlabel('Уровень зарплаты')\n",
    "salary_hist.set_ylabel('Количество сотрудников')"
   ]
  },
  {
   "cell_type": "markdown",
   "metadata": {
    "id": "jHofFCwBzBWG"
   },
   "source": [
    "### 6. Показать распределение сотрудников по зарплатам в каждом департаменте по отдельности\n",
    "**5 баллов**\n"
   ]
  },
  {
   "cell_type": "code",
   "execution_count": null,
   "metadata": {
    "colab": {
     "base_uri": "https://localhost:8080/",
     "height": 476
    },
    "id": "fWdL4mHSzJKp",
    "outputId": "b47562a8-6575-4719-d05e-613c4c0f7acb"
   },
   "outputs": [],
   "source": [
    "# Строим гистрограмму распределения сотрудников по зарплатам и департаментам \n",
    "# в двух видах, чтобы выбрать наиболее наглядный\n",
    "\n",
    "salary_hist = sns.histplot(y='department', hue='salary', multiple='dodge', data=hr)\n",
    "salary_hist.axes.set_title('Распределение сотрудников по зарплатам и департаментам')\n",
    "salary_hist.set_xlabel('Количество сотрудников')\n",
    "salary_hist.set_ylabel('Департамент')"
   ]
  },
  {
   "cell_type": "code",
   "execution_count": null,
   "metadata": {
    "colab": {
     "base_uri": "https://localhost:8080/",
     "height": 112
    },
    "id": "LDtIO4gb3YKP",
    "outputId": "34175f11-33a4-445c-de4b-7600f65060b4"
   },
   "outputs": [],
   "source": [
    "# и отдельные гистограммы распределения сотрудников по зарплатам для каждого отдела\n",
    "salary_hist_2 = sns.displot(x='salary', col='department', data=hr)\n",
    "\n",
    "salary_hist_2.set_axis_labels('Зарплата', 'Количество сотрудников')\n",
    "salary_hist_2.fig.suptitle('Распределение сотрудников по департаментам и зарплатам', y=1.03, fontsize=20)"
   ]
  },
  {
   "cell_type": "markdown",
   "metadata": {
    "id": "bh_ujYVEzJ18"
   },
   "source": [
    "### 7. Проверить гипотезу, что сотрудники с высоким окладом проводят на работе больше времени, чем сотрудники с низким окладом\n",
    "**10 баллов**"
   ]
  },
  {
   "cell_type": "code",
   "execution_count": null,
   "metadata": {
    "colab": {
     "base_uri": "https://localhost:8080/"
    },
    "id": "h7lNtJR5zT2T",
    "outputId": "c9dbf327-1e52-4c48-9e42-f4d90ce6f1c0"
   },
   "outputs": [],
   "source": [
    "low_salary = hr.loc[hr.salary == 'low']\n",
    "print(f'Сотрудники с низким окладом проводят на работе в среднем {low_salary.average_montly_hours.mean():.2f} часов в месяц')\n",
    "\n",
    "medium_salary = hr.loc[hr.salary == 'medium']\n",
    "print(f'Сотрудники со средним окладом проводят на работе в среднем {medium_salary.average_montly_hours.mean():.2f} часов в месяц')\n",
    "\n",
    "high_salary = hr.loc[hr.salary == 'high']\n",
    "print(f'Сотрудники с высоким окладом проводят на работе в среднем {high_salary.average_montly_hours.mean():.2f} часов в месяц')\n",
    "print()\n",
    "print('Видим, что гипотеза не подтверждается:')\n",
    "print('Сотрудники с высоким окладом проводят на работе меньше времени, чем сотрудники с низким окладом')\n",
    "print('А сотрудники с низким и средним окладом работают примерно одинаковое количество часов')"
   ]
  },
  {
   "cell_type": "markdown",
   "metadata": {
    "id": "FIzRClPwzUuQ"
   },
   "source": [
    "### 8. Рассчитать следующие показатели среди уволившихся и не уволившихся сотрудников \n",
    "(по отдельности) **10 баллов**"
   ]
  },
  {
   "cell_type": "code",
   "execution_count": null,
   "metadata": {
    "id": "ALOe6Q3P72Ex"
   },
   "outputs": [],
   "source": [
    "# разделяем датафреймы на уволившихся и нет\n",
    "\n",
    "left = hr[hr['left'] == 1]\n",
    "not_left = hr[hr['left'] == 0]"
   ]
  },
  {
   "cell_type": "markdown",
   "metadata": {
    "id": "VLVCxxm5zekI"
   },
   "source": [
    "Доля сотрудников с повышением за последние 5 лет"
   ]
  },
  {
   "cell_type": "code",
   "execution_count": null,
   "metadata": {
    "colab": {
     "base_uri": "https://localhost:8080/"
    },
    "id": "3IFf7JHdzd4D",
    "outputId": "d715aaf4-0113-4701-89c9-83f01b9726e9"
   },
   "outputs": [],
   "source": [
    "def get_percent_by_df_and_column(df, col):\n",
    "    '''\n",
    "    Функция высчитывает процент сотрудников, удовлетворяющих категориальному условию.\n",
    "    df - датафрейм, с которым работаем - целый или подмножество данных.\n",
    "    col - столбец с категориальными данными, по которым подсчитываем процент единиц.\n",
    "    На выходе процент.\n",
    "    '''\n",
    "    return (df[df[col] == 1][col].count()*100)/(df[col].count())\n",
    "\n",
    "\n",
    "first_filter = 'promotion_last_5years'\n",
    "print(f'Среди уволившихся сотрудников доля повышенных за последние пять лет {get_percent_by_df_and_column(left, first_filter):.2f} %')\n",
    "print(f'Среди работающих сотрудников доля повышенных за последние пять лет {get_percent_by_df_and_column(not_left, first_filter):.2f} %')"
   ]
  },
  {
   "cell_type": "markdown",
   "metadata": {
    "id": "s1Af_I7uzgzV"
   },
   "source": [
    "Средняя степень удовлетворенности"
   ]
  },
  {
   "cell_type": "code",
   "execution_count": null,
   "metadata": {
    "colab": {
     "base_uri": "https://localhost:8080/"
    },
    "id": "LfjRcyeXziv4",
    "outputId": "d6935705-32e3-421a-a5b5-bcf99e9974cc"
   },
   "outputs": [],
   "source": [
    "def get_mean_by_df_and_column(df, col):\n",
    "    '''\n",
    "    Функция высчитывает среднее значение по столбцу col.\n",
    "    df - датафрейм, с которым работаем - целый или подмножество данных.\n",
    "    col - столбец с непрерывными данными, по которым подсчитываем процент единиц.\n",
    "    На выходе среднее.\n",
    "    '''\n",
    "    return df[col].mean()\n",
    "\n",
    "second_filter = 'satisfaction_level'\n",
    "print(f'Среди уволившихся сотрудников средняя удовлетворенность {get_mean_by_df_and_column(left, second_filter):.2f}')\n",
    "print(f'Среди работающих сотрудников средняя удовлетворенность {get_mean_by_df_and_column(not_left, second_filter):.2f}')"
   ]
  },
  {
   "cell_type": "markdown",
   "metadata": {
    "id": "ACn9ros_zi68"
   },
   "source": [
    "Среднее количество проектов"
   ]
  },
  {
   "cell_type": "code",
   "execution_count": null,
   "metadata": {
    "colab": {
     "base_uri": "https://localhost:8080/"
    },
    "id": "8ZE6ScmMzlrH",
    "outputId": "ee947df6-0771-45e4-93a1-5cb371a9aaee"
   },
   "outputs": [],
   "source": [
    "third_filter = 'number_project'\n",
    "print(f'Среди уволившихся сотрудников среднее количество проектов {get_mean_by_df_and_column(left, third_filter):.2f}')\n",
    "print(f'Среди уволившихся сотрудников среднее количество проектов {get_mean_by_df_and_column(not_left, third_filter):.2f}')"
   ]
  },
  {
   "cell_type": "markdown",
   "metadata": {
    "id": "xq7uqZP_zml7"
   },
   "source": [
    "### 9. Построить модель LDA\n",
    "Разделить данные на тестовую и обучающую выборки.  \n",
    "Построить модель LDA, предсказывающую уволился ли\n",
    "сотрудник на основе имеющихся факторов (кроме department и salary)  \n",
    "Оценить качество модели на тестовой выборке\n",
    "\n",
    "**20 баллов**"
   ]
  },
  {
   "cell_type": "code",
   "execution_count": null,
   "metadata": {
    "colab": {
     "base_uri": "https://localhost:8080/"
    },
    "id": "yHsmw-wqzx7J",
    "outputId": "40d39b98-b026-4ac8-a1fe-e5420d634606"
   },
   "outputs": [],
   "source": [
    "# отделяем датафрейм с данными, на основе которых принимается решение, уволится ли человек\n",
    "lda_df = hr.loc[:, ['satisfaction_level', 'last_evaluation', 'number_project', \\\n",
    "                    'average_montly_hours', 'time_spend_company', 'Work_accident', 'promotion_last_5years']]\n",
    "\n",
    "# отделяем столбец с результатами - уволится ли человек\n",
    "lda_left = hr.loc[:, ['left']]\n",
    "\n",
    "# разделяем данные на тренировочные и тестовые\n",
    "x_train, x_test, y_train, y_test = train_test_split(lda_df, lda_left, test_size=0.30, random_state=42)\n",
    "\n",
    "# строим модель линейного дискриминантного анализа (LDA)\n",
    "lda = LinearDiscriminantAnalysis()\n",
    "lda.fit(x_train, y_train)\n",
    "lda_result = lda.predict(x_test)\n",
    "\n",
    "# проверяем модель на тестовых данных и прогнозируемом результате\n",
    "accuracy_score(y_test, lda_result)\n",
    "\n",
    "# результат 0,76 близок к единице, значит, модель достаточно хороша и пригодна для использования"
   ]
  },
  {
   "cell_type": "code",
   "execution_count": null,
   "metadata": {
    "colab": {
     "base_uri": "https://localhost:8080/",
     "height": 460
    },
    "id": "mTR2c9rRpE6c",
    "outputId": "cc03f928-fe3c-4f19-c981-dbf5bb1d86c3"
   },
   "outputs": [],
   "source": [
    "# и на всякий случай проанализируем график остатков. \n",
    "# для этого вычтем из реальных тестовых данных те, что получены в результате классификации\n",
    "\n",
    "leftovers = y_test - lda_result.reshape(-1,1)\n",
    "\n",
    "# строим гистограмму остатков распределения. столбцов в ней три - остаток может быть только 0, 1 или -1\n",
    "sns.histplot(x=leftovers.left, bins=3)\n",
    "\n",
    "# видим нормальное распределение остатков. \n",
    "# причем совпадающих результатов в 5-7 раз больше, чем ошибок\n"
   ]
  },
  {
   "cell_type": "markdown",
   "metadata": {
    "id": "20EQ3-Uhz170"
   },
   "source": [
    "### 10. Загрузить jupyter notebook с решение на github и прислать ссылку\n",
    "5 баллов"
   ]
  },
  {
   "cell_type": "code",
   "execution_count": null,
   "metadata": {
    "id": "K2V0eSTZr41G"
   },
   "outputs": [],
   "source": []
  }
 ],
 "metadata": {
  "colab": {
   "collapsed_sections": [],
   "name": "Diploma_HR.ipynb",
   "provenance": [],
   "toc_visible": true
  },
  "kernelspec": {
   "display_name": "Python 3",
   "language": "python",
   "name": "python3"
  },
  "language_info": {
   "name": "python"
  }
 },
 "nbformat": 4,
 "nbformat_minor": 1
}
