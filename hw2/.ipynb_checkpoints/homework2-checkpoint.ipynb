{
 "cells": [
  {
   "cell_type": "markdown",
   "metadata": {},
   "source": [
    "**Задание 1**. Даны 2 строки: *long_phrase* и *short_phrase*. \n",
    "Напишите код, который проверяет действительно ли длинная фраза *long_phrase* длиннее короткой *short_phrase*. И выводит *True* или *False* в зависимости от результата сравнения."
   ]
  },
  {
   "cell_type": "code",
   "execution_count": 1,
   "metadata": {},
   "outputs": [],
   "source": [
    "long_phrase = 'Насколько проще было бы писать программы, если бы не заказчики'\n",
    "short_phrase = '640Кб должно хватить для любых задач. Билл Гейтс (по легенде)'"
   ]
  },
  {
   "cell_type": "code",
   "execution_count": 2,
   "metadata": {},
   "outputs": [
    {
     "name": "stdout",
     "output_type": "stream",
     "text": [
      "True\n"
     ]
    }
   ],
   "source": [
    "if  len(long_phrase) > len(short_phrase):\n",
    "    print('True')\n",
    "else:\n",
    "    print('False')"
   ]
  },
  {
   "cell_type": "markdown",
   "metadata": {},
   "source": [
    "**Задание 2**. Дано значение объема файла в байтах (*в мегабайте 2^20 байт*). Напишите перевод этого значения в мегабайты в формате: \"*Объем файла равен 213.68Mb*\"."
   ]
  },
  {
   "cell_type": "code",
   "execution_count": 4,
   "metadata": {},
   "outputs": [
    {
     "name": "stdout",
     "output_type": "stream",
     "text": [
      "Введите размер файла в байтах: 123456\n",
      "Объем файла равен 120.56Mb\n"
     ]
    }
   ],
   "source": [
    "byte_size = int(input('Введите размер файла в байтах: '))\n",
    "mbyte_size = byte_size/1024\n",
    "print('Объем файла равен {:.2f}Mb'.format(mbyte_size))"
   ]
  },
  {
   "cell_type": "markdown",
   "metadata": {},
   "source": [
    "**Задание 3**. Разработать приложение для определения знака зодиака по дате рождения. Пример:\n",
    "\n",
    "Введите месяц: март\n",
    "\n",
    "Введите число: 6\n",
    "\n",
    "Вывод:\n",
    "Рыбы"
   ]
  },
  {
   "cell_type": "code",
   "execution_count": 5,
   "metadata": {},
   "outputs": [
    {
     "name": "stdout",
     "output_type": "stream",
     "text": [
      "Введите месяц рождения: июнь\n",
      "Введите дату рождения: 10\n",
      "Вы близнецы\n"
     ]
    }
   ],
   "source": [
    "birth_month = input('Введите месяц рождения: ')\n",
    "birth_day = int(input('Введите дату рождения: '))\n",
    "if ((birth_month == 'апрель') and (birth_day <= 20)) or ((birth_month == 'март') and (birth_day >= 21)):\n",
    "    print('Вы овен')\n",
    "elif ((birth_month == 'май') and (birth_day <= 20)) or ((birth_month == 'апрель') and (birth_day >= 21)):\n",
    "    print('Вы телец')\n",
    "elif ((birth_month == 'июнь') and (birth_day <= 21)) or ((birth_month == 'май') and (birth_day >= 21)):\n",
    "    print('Вы близнецы')\n",
    "elif ((birth_month == 'июль') and (birth_day <= 22)) or ((birth_month == 'июнь') and (birth_day >= 22)):\n",
    "    print('Вы рак')\n",
    "elif ((birth_month == 'август') and (birth_day <= 23)) or ((birth_month == 'июль') and (birth_day >= 23)):\n",
    "    print('Вы лев')\n",
    "elif ((birth_month == 'сентябрь') and (birth_day <= 22)) or ((birth_month == 'август') and (birth_day >= 24)):\n",
    "    print('Вы дева')\n",
    "elif ((birth_month == 'октябрь') and (birth_day <= 23)) or ((birth_month == 'сентябрь') and (birth_day >= 23)):\n",
    "    print('Вы весы')\n",
    "elif ((birth_month == 'ноябрь') and (birth_day <= 22)) or ((birth_month == 'октябрь') and (birth_day >= 24)):\n",
    "    print('Вы скорпион')\n",
    "elif ((birth_month == 'декабрь') and (birth_day <= 21)) or ((birth_month == 'ноябрь') and (birth_day >= 23)):\n",
    "    print('Вы стрелец')\n",
    "elif ((birth_month == 'январь') and (birth_day <= 19)) or ((birth_month == 'декабрь') and (birth_day >= 22)):\n",
    "    print('Вы козерог')\n",
    "elif ((birth_month == 'февраль') and (birth_day <= 18)) or ((birth_month == 'январь') and (birth_day >= 20)):\n",
    "    print('Вы водолей')\n",
    "else:\n",
    "    print('Вы рыбы')\n",
    "    "
   ]
  },
  {
   "cell_type": "markdown",
   "metadata": {},
   "source": [
    "**Задание 4**. Нужно разработать приложение для финансового планирования.\n",
    "Приложение учитывает сколько уходит на ипотеку, \"на жизнь\" и сколько нужно отложить на пенсию.\n",
    "Пользователь вводит:\n",
    "- заработанную плату в месяц.\n",
    "- сколько процентов от ЗП уходит на ипотеку.\n",
    "- сколько процентов от ЗП уходит \"на жизнь\".\n",
    "- сколько раз приходит премия в год.\n",
    "\n",
    "Остальная часть заработанной платы откладывается на пенсию.\n",
    "\n",
    "Также пользователю приходит премия в размере зарплаты, от которой половина уходит на отпуск, а вторая половина откладывается.\n",
    "\n",
    "Программа должна учитывать сколько премий было в год.\n",
    "\n",
    "Нужно вывести сколько денег тратит пользователь на ипотеку и сколько он накопит за год.\n",
    "\n",
    "Пример:\n",
    "\n",
    "Введите заработанную плату в месяц: 100000\n",
    "\n",
    "Введите сколько процентов уходит на ипотеку: 30\n",
    "\n",
    "Введите сколько процентов уходит на жизнь: 50\n",
    "\n",
    "Введите количество премий за год: 2\n",
    "\n",
    "Вывод:\n",
    "На ипотеку было потрачено: 360000 рублей\n",
    "Было накоплено: 340000 рублей"
   ]
  },
  {
   "cell_type": "code",
   "execution_count": 6,
   "metadata": {},
   "outputs": [
    {
     "name": "stdout",
     "output_type": "stream",
     "text": [
      "Введите вашу зарплату за месяц: 100000\n",
      "Сколько процентов месячной зарплаты вы тратите на ипотеку: 30\n",
      "Сколько процентов месячной зарплаты вы тратите на жизнь: 50\n",
      "Сколько раз в год у вас бывает премия: 2\n",
      "На ипотеку было потрачено: 360000. Было накоплено: 340000\n"
     ]
    }
   ],
   "source": [
    "salary = int(input('Введите вашу зарплату за месяц: '))\n",
    "percent_for_mortgage = int(input('Сколько процентов месячной зарплаты вы тратите на ипотеку: '))\n",
    "percent_for_life = int(input('Сколько процентов месячной зарплаты вы тратите на жизнь: '))\n",
    "premium_count = int(input('Сколько раз в год у вас бывает премия: '))\n",
    "\n",
    "montgage_total = salary*percent_for_mortgage/100*12\n",
    "\n",
    "accumulation_total = (salary-salary*(percent_for_mortgage+percent_for_life)/100)*12+salary*premium_count/2\n",
    "\n",
    "print('На ипотеку было потрачено: {:.0f}.'.format(montgage_total), 'Было накоплено: {:.0f}'.format(accumulation_total))"
   ]
  },
  {
   "cell_type": "code",
   "execution_count": null,
   "metadata": {},
   "outputs": [],
   "source": []
  }
 ],
 "metadata": {
  "kernelspec": {
   "display_name": "Python 3",
   "language": "python",
   "name": "python3"
  },
  "language_info": {
   "codemirror_mode": {
    "name": "ipython",
    "version": 3
   },
   "file_extension": ".py",
   "mimetype": "text/x-python",
   "name": "python",
   "nbconvert_exporter": "python",
   "pygments_lexer": "ipython3",
   "version": "3.7.6"
  }
 },
 "nbformat": 4,
 "nbformat_minor": 2
}
