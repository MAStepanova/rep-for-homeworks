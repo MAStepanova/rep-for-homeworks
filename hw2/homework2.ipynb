{
 "cells": [
  {
   "cell_type": "code",
   "execution_count": null,
   "metadata": {},
   "outputs": [],
   "source": []
  },
  {
   "cell_type": "markdown",
   "metadata": {},
   "source": [
    "**Задание 1**. Даны 2 переменных, в которых хранятся строки произвольной длины: phrase_1 и phrase_2.\n",
    "Напишите код, который проверяет какая из этих строк длиннее."
   ]
  },
  {
   "cell_type": "code",
   "execution_count": null,
   "metadata": {},
   "outputs": [],
   "source": [
    "phrase_1 = 'Насколько проще было бы писать программы, если бы не всё это '\n",
    "phrase_2 = '640Кб должно хватить для любых задач. Билл Гейтс (по легенде)'"
   ]
  },
  {
   "cell_type": "code",
   "execution_count": null,
   "metadata": {},
   "outputs": [],
   "source": [
    "if  len(phrase_1) == len(phrase_2):\n",
    "    print('Фразы одинаковой длины')\n",
    "elif len(phrase_1) > len(phrase_2):\n",
    "        print('Первая фраза длиннее второй')\n",
    "else:\n",
    "    print('Вторая фраза длиннее первой')"
   ]
  },
  {
   "cell_type": "markdown",
   "metadata": {},
   "source": [
    "**Задание 2**. Дана переменная, в которой хранится четырехзначное число (год). Необходимо написать программу, которая выведет, является ли данный год високосным или обычным."
   ]
  },
  {
   "cell_type": "code",
   "execution_count": null,
   "metadata": {},
   "outputs": [],
   "source": [
    "year = 1984\n",
    "\n",
    "if year % 4 == 0:\n",
    "    print('Год високосный')\n",
    "else:\n",
    "    print('Год обычный')"
   ]
  },
  {
   "cell_type": "markdown",
   "metadata": {},
   "source": [
    "**Задание 3**. Разработать приложение для определения знака зодиака по дате рождения. Пример:\n",
    "\n",
    "Введите месяц: март\n",
    "\n",
    "Введите число: 6\n",
    "\n",
    "Вывод:\n",
    "Рыбы"
   ]
  },
  {
   "cell_type": "code",
   "execution_count": null,
   "metadata": {},
   "outputs": [],
   "source": [
    "birth_month = input('Введите месяц рождения: ')\n",
    "birth_day = int(input('Введите дату рождения: '))\n",
    "if ((birth_month == 'апрель') and (birth_day <= 20)) or ((birth_month == 'март') and (birth_day >= 21)):\n",
    "    print('Вы овен')\n",
    "elif ((birth_month == 'май') and (birth_day <= 20)) or ((birth_month == 'апрель') and (birth_day >= 21)):\n",
    "    print('Вы телец')\n",
    "elif ((birth_month == 'июнь') and (birth_day <= 21)) or ((birth_month == 'май') and (birth_day >= 21)):\n",
    "    print('Вы близнецы')\n",
    "elif ((birth_month == 'июль') and (birth_day <= 22)) or ((birth_month == 'июнь') and (birth_day >= 22)):\n",
    "    print('Вы рак')\n",
    "elif ((birth_month == 'август') and (birth_day <= 23)) or ((birth_month == 'июль') and (birth_day >= 23)):\n",
    "    print('Вы лев')\n",
    "elif ((birth_month == 'сентябрь') and (birth_day <= 22)) or ((birth_month == 'август') and (birth_day >= 24)):\n",
    "    print('Вы дева')\n",
    "elif ((birth_month == 'октябрь') and (birth_day <= 23)) or ((birth_month == 'сентябрь') and (birth_day >= 23)):\n",
    "    print('Вы весы')\n",
    "elif ((birth_month == 'ноябрь') and (birth_day <= 22)) or ((birth_month == 'октябрь') and (birth_day >= 24)):\n",
    "    print('Вы скорпион')\n",
    "elif ((birth_month == 'декабрь') and (birth_day <= 21)) or ((birth_month == 'ноябрь') and (birth_day >= 23)):\n",
    "    print('Вы стрелец')\n",
    "elif ((birth_month == 'январь') and (birth_day <= 19)) or ((birth_month == 'декабрь') and (birth_day >= 22)):\n",
    "    print('Вы козерог')\n",
    "elif ((birth_month == 'февраль') and (birth_day <= 18)) or ((birth_month == 'январь') and (birth_day >= 20)):\n",
    "    print('Вы водолей')\n",
    "else:\n",
    "    print('Вы рыбы')\n",
    "    "
   ]
  },
  {
   "cell_type": "markdown",
   "metadata": {},
   "source": [
    "**Задание 4**\n",
    "Вам нужно написать программу для подбора упаковок по размерам товара. Размеры хранятся в переменных (в сантиметрах):\n",
    "\n",
    "width = 10\n",
    "length = 205\n",
    "height = 5\n",
    "Используйте следующие правила:\n",
    "\n",
    "если каждое из трех измерений менее 15 сантиметров, то выведите на экран “Коробка №1”;\n",
    "если хотя бы одно из измерений больше 15 сантиметров, но менее 50 сантиметров, то выводите “Коробка №2”;\n",
    "если длина товара больше 2 метров, то выводите “Упаковка для лыж”;\n",
    "во всех остальных случаях выводите “Стандартная коробка №3”."
   ]
  },
  {
   "cell_type": "code",
   "execution_count": null,
   "metadata": {},
   "outputs": [],
   "source": [
    "width = 10 \n",
    "length = 60 \n",
    "height = 5\n",
    "\n",
    "if length > 200:\n",
    "    print('Коробка для лыж')\n",
    "elif width < 15 and length < 15 and height < 15:\n",
    "    print('Коробка №1')\n",
    "elif 15 < width < 50 or 15 < length < 50 or 15 < height < 5:\n",
    "    print('Коробка №2')\n",
    "else:\n",
    "    print('Стандартная коробка №3')\n"
   ]
  },
  {
   "cell_type": "markdown",
   "metadata": {},
   "source": [
    "**Задание 5 (необязательное)**\n",
    "\n",
    "Дана переменная, в которой хранится шестизначное число (номер проездного билета). Напишите программу, которая будет определять, является ли данный билет “счастливым”. Билет считается счастливым, если сумма первых трех цифр совпадает с суммой последних трех цифр номера.\n",
    "\n",
    "Примеры работы программы:\n",
    "\n",
    "number = 123456\n",
    "Результат:\n",
    "Неасчастливый билет\n",
    "\n",
    "number = 123321\n",
    "Результат:\n",
    "Счастливый билет"
   ]
  },
  {
   "cell_type": "code",
   "execution_count": 7,
   "metadata": {},
   "outputs": [
    {
     "name": "stdout",
     "output_type": "stream",
     "text": [
      "Введите шестизначное число: 123321\n",
      "Счастливый билет\n"
     ]
    }
   ],
   "source": [
    "ticket = int(input('Введите шестизначное число: '))\n",
    "\n",
    "if 1 < ticket / 100000 < 10:\n",
    "    #first = ticket // 100000\n",
    "    #second = (ticket - first * 100000) // 10000\n",
    "    #third = (ticket - first * 100000 - second * 10000) // 1000\n",
    "    #fourth = (ticket - first * 100000 - second * 10000 - third * 1000) // 100\n",
    "    #fifth = (ticket - first * 100000 - second * 10000 - third * 1000 - fourth * 100) // 10\n",
    "    #sixth = ticket - first * 100000 - second * 10000 - third * 1000 - fourth * 100 - fifth * 10\n",
    "    \n",
    "    first = int(str(str(ticket))[0])\n",
    "    second = int(str(str(ticket))[1])\n",
    "    third = int(str(str(ticket))[2])\n",
    "    fourth = int(str(str(ticket))[3])\n",
    "    fifth = int(str(str(ticket))[4])\n",
    "    sixth = int(str(str(ticket))[5])\n",
    "    \n",
    "    part_one = first + second + third\n",
    "    part_two = fourth + fifth + sixth\n",
    "    \n",
    "    if part_one == part_two:\n",
    "        print('Счастливый билет')\n",
    "    else:\n",
    "        print('Несчастливый билет')\n",
    "\n",
    "else:\n",
    "    print('Это не шестизначное число')\n"
   ]
  },
  {
   "cell_type": "markdown",
   "metadata": {},
   "source": [
    "**Задание 6 (необязательное)**\n",
    "Напишите программу, которая сможет вычислять площади трех фигур (круг, треугольник и прямоугольник). Тип фигуры запрашиваем через пользовательский ввод, после чего делаем запрос характеристик фигуры:\n",
    "\n",
    "если пользователь выбрал круг, запрашиваем его радиус,\n",
    "если треугольник – длины трех его сторон;\n",
    "если прямоугольник – длины двух его сторон."
   ]
  },
  {
   "cell_type": "code",
   "execution_count": null,
   "metadata": {},
   "outputs": [],
   "source": [
    "figure_type = input('Введите тип фигуры (круг, прямоугольник, треугольник): ')\n",
    "\n",
    "if figure_type == 'круг' or figure_type == 'Круг':\n",
    "    radius = float(input('Введите радиус круга: '))\n",
    "    area = (radius ** 2) * 3.14\n",
    "    print('Площадь круга равна {:.2f}'.format(area))\n",
    "\n",
    "elif figure_type == 'треугольник' or figure_type == 'Треугольник':\n",
    "    trngl_side_a = float(input('Введите сторону треугольника А: '))\n",
    "    trngl_side_b = float(input('Введите сторону треугольника B: '))\n",
    "    trngl_side_c = float(input('Введите сторону треугольника C: '))\n",
    "    half_per = (trngl_side_a + trngl_side_b + trngl_side_c) / 2\n",
    "    area = (half_per * (half_per - trngl_side_a) * (half_per - trngl_side_b) * (half_per - trngl_side_c)) ** (1/2)\n",
    "    print('Площадь треугольника равна {:.2f}'.format(area))\n",
    "    \n",
    "    \n",
    "elif figure_type == 'прямоугольник' or figure_type == 'Прямоугольник':\n",
    "    rectangle_side_a = float(input('Введите сторону прямоугольника А: '))\n",
    "    rectangle_side_b = float(input('Введите сторону прямоугольника B: '))\n",
    "    area = rectangle_side_a * rectangle_side_b\n",
    "    print('Площадь прямоугольника равна {:.2f}'.format(area))\n",
    "    \n",
    "else:\n",
    "    print('Это не похоже на фигуру из списка')"
   ]
  },
  {
   "cell_type": "code",
   "execution_count": null,
   "metadata": {},
   "outputs": [],
   "source": []
  }
 ],
 "metadata": {
  "kernelspec": {
   "display_name": "Python 3",
   "language": "python",
   "name": "python3"
  },
  "language_info": {
   "codemirror_mode": {
    "name": "ipython",
    "version": 3
   },
   "file_extension": ".py",
   "mimetype": "text/x-python",
   "name": "python",
   "nbconvert_exporter": "python",
   "pygments_lexer": "ipython3",
   "version": "3.7.6"
  }
 },
 "nbformat": 4,
 "nbformat_minor": 2
}
